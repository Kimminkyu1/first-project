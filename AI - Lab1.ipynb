{
  "cells": [
    {
      "cell_type": "markdown",
      "id": "0aeae1b5-b667-483d-9246-beb96682b721",
      "metadata": {
        "id": "0aeae1b5-b667-483d-9246-beb96682b721"
      },
      "source": [
        "# Laboratory 1 - Introduction to Artificial Intelligence Class\n",
        "\n",
        "This is an introductory exercise for you to learn about using google colab and github.\n",
        "\n",
        "Each question has a value of 1 point\n",
        "\n",
        "For this laboratory each exercise you have to develop your own answer, put the correct answer in the cell where is the comment # YOUR CODE HERE / # YOUR ANSWER HERE\n",
        "\n",
        "Do not use/add another cell."
      ]
    },
    {
      "cell_type": "markdown",
      "id": "2a790f40-a2eb-40b8-afca-00f76f404f88",
      "metadata": {
        "id": "2a790f40-a2eb-40b8-afca-00f76f404f88"
      },
      "source": [
        "## Question 1: Write your basic information"
      ]
    },
    {
      "cell_type": "code",
      "execution_count": null,
      "id": "3d1a745d-1657-429d-b749-38a184bbf969",
      "metadata": {
        "id": "3d1a745d-1657-429d-b749-38a184bbf969"
      },
      "outputs": [],
      "source": [
        "# YOUR ANSWER HERE\n",
        "\n",
        "# * Full Name: kim min gyu\n",
        "# * Student ID: 201801340\n",
        "# * GitHub ID: \n",
        "# * Faculty/ Major: Department of Industrial Management Engineering\n",
        "# * Interest research areas: machine learning\n",
        "# * Date: 2022-03-10"
      ]
    },
    {
      "cell_type": "markdown",
      "id": "fd91d278-0c7f-417a-96e0-da5036350274",
      "metadata": {
        "id": "fd91d278-0c7f-417a-96e0-da5036350274"
      },
      "source": [
        "## Question 2: Connect to your google drive \n",
        "* Free question only run the code."
      ]
    },
    {
      "cell_type": "code",
      "execution_count": 4,
      "id": "88b8090d-38b0-41c8-ba8c-1266011360b4",
      "metadata": {
        "id": "88b8090d-38b0-41c8-ba8c-1266011360b4",
        "outputId": "3d8a31aa-cdc0-48a6-fd2f-ab2884100067",
        "colab": {
          "base_uri": "https://localhost:8080/",
          "height": 363
        }
      },
      "outputs": [
        {
          "output_type": "error",
          "ename": "MessageError",
          "evalue": "ignored",
          "traceback": [
            "\u001b[0;31m---------------------------------------------------------------------------\u001b[0m",
            "\u001b[0;31mMessageError\u001b[0m                              Traceback (most recent call last)",
            "\u001b[0;32m<ipython-input-4-783339181d31>\u001b[0m in \u001b[0;36m<module>\u001b[0;34m()\u001b[0m\n\u001b[1;32m      2\u001b[0m \u001b[0;34m\u001b[0m\u001b[0m\n\u001b[1;32m      3\u001b[0m \u001b[0;32mfrom\u001b[0m \u001b[0mgoogle\u001b[0m\u001b[0;34m.\u001b[0m\u001b[0mcolab\u001b[0m \u001b[0;32mimport\u001b[0m \u001b[0mdrive\u001b[0m\u001b[0;34m\u001b[0m\u001b[0;34m\u001b[0m\u001b[0m\n\u001b[0;32m----> 4\u001b[0;31m \u001b[0mdrive\u001b[0m\u001b[0;34m.\u001b[0m\u001b[0mmount\u001b[0m\u001b[0;34m(\u001b[0m\u001b[0;34m'/content/drive'\u001b[0m\u001b[0;34m)\u001b[0m\u001b[0;34m\u001b[0m\u001b[0;34m\u001b[0m\u001b[0m\n\u001b[0m",
            "\u001b[0;32m/usr/local/lib/python3.7/dist-packages/google/colab/drive.py\u001b[0m in \u001b[0;36mmount\u001b[0;34m(mountpoint, force_remount, timeout_ms, use_metadata_server)\u001b[0m\n\u001b[1;32m    113\u001b[0m       \u001b[0mforce_remount\u001b[0m\u001b[0;34m=\u001b[0m\u001b[0mforce_remount\u001b[0m\u001b[0;34m,\u001b[0m\u001b[0;34m\u001b[0m\u001b[0;34m\u001b[0m\u001b[0m\n\u001b[1;32m    114\u001b[0m       \u001b[0mtimeout_ms\u001b[0m\u001b[0;34m=\u001b[0m\u001b[0mtimeout_ms\u001b[0m\u001b[0;34m,\u001b[0m\u001b[0;34m\u001b[0m\u001b[0;34m\u001b[0m\u001b[0m\n\u001b[0;32m--> 115\u001b[0;31m       ephemeral=True)\n\u001b[0m\u001b[1;32m    116\u001b[0m \u001b[0;34m\u001b[0m\u001b[0m\n\u001b[1;32m    117\u001b[0m \u001b[0;34m\u001b[0m\u001b[0m\n",
            "\u001b[0;32m/usr/local/lib/python3.7/dist-packages/google/colab/drive.py\u001b[0m in \u001b[0;36m_mount\u001b[0;34m(mountpoint, force_remount, timeout_ms, use_metadata_server, ephemeral)\u001b[0m\n\u001b[1;32m    133\u001b[0m   \u001b[0;32mif\u001b[0m \u001b[0mephemeral\u001b[0m\u001b[0;34m:\u001b[0m\u001b[0;34m\u001b[0m\u001b[0;34m\u001b[0m\u001b[0m\n\u001b[1;32m    134\u001b[0m     _message.blocking_request(\n\u001b[0;32m--> 135\u001b[0;31m         'request_auth', request={'authType': 'dfs_ephemeral'}, timeout_sec=None)\n\u001b[0m\u001b[1;32m    136\u001b[0m \u001b[0;34m\u001b[0m\u001b[0m\n\u001b[1;32m    137\u001b[0m   \u001b[0mmountpoint\u001b[0m \u001b[0;34m=\u001b[0m \u001b[0m_os\u001b[0m\u001b[0;34m.\u001b[0m\u001b[0mpath\u001b[0m\u001b[0;34m.\u001b[0m\u001b[0mexpanduser\u001b[0m\u001b[0;34m(\u001b[0m\u001b[0mmountpoint\u001b[0m\u001b[0;34m)\u001b[0m\u001b[0;34m\u001b[0m\u001b[0;34m\u001b[0m\u001b[0m\n",
            "\u001b[0;32m/usr/local/lib/python3.7/dist-packages/google/colab/_message.py\u001b[0m in \u001b[0;36mblocking_request\u001b[0;34m(request_type, request, timeout_sec, parent)\u001b[0m\n\u001b[1;32m    173\u001b[0m   request_id = send_request(\n\u001b[1;32m    174\u001b[0m       request_type, request, parent=parent, expect_reply=True)\n\u001b[0;32m--> 175\u001b[0;31m   \u001b[0;32mreturn\u001b[0m \u001b[0mread_reply_from_input\u001b[0m\u001b[0;34m(\u001b[0m\u001b[0mrequest_id\u001b[0m\u001b[0;34m,\u001b[0m \u001b[0mtimeout_sec\u001b[0m\u001b[0;34m)\u001b[0m\u001b[0;34m\u001b[0m\u001b[0;34m\u001b[0m\u001b[0m\n\u001b[0m",
            "\u001b[0;32m/usr/local/lib/python3.7/dist-packages/google/colab/_message.py\u001b[0m in \u001b[0;36mread_reply_from_input\u001b[0;34m(message_id, timeout_sec)\u001b[0m\n\u001b[1;32m    104\u001b[0m         reply.get('colab_msg_id') == message_id):\n\u001b[1;32m    105\u001b[0m       \u001b[0;32mif\u001b[0m \u001b[0;34m'error'\u001b[0m \u001b[0;32min\u001b[0m \u001b[0mreply\u001b[0m\u001b[0;34m:\u001b[0m\u001b[0;34m\u001b[0m\u001b[0;34m\u001b[0m\u001b[0m\n\u001b[0;32m--> 106\u001b[0;31m         \u001b[0;32mraise\u001b[0m \u001b[0mMessageError\u001b[0m\u001b[0;34m(\u001b[0m\u001b[0mreply\u001b[0m\u001b[0;34m[\u001b[0m\u001b[0;34m'error'\u001b[0m\u001b[0;34m]\u001b[0m\u001b[0;34m)\u001b[0m\u001b[0;34m\u001b[0m\u001b[0;34m\u001b[0m\u001b[0m\n\u001b[0m\u001b[1;32m    107\u001b[0m       \u001b[0;32mreturn\u001b[0m \u001b[0mreply\u001b[0m\u001b[0;34m.\u001b[0m\u001b[0mget\u001b[0m\u001b[0;34m(\u001b[0m\u001b[0;34m'data'\u001b[0m\u001b[0;34m,\u001b[0m \u001b[0;32mNone\u001b[0m\u001b[0;34m)\u001b[0m\u001b[0;34m\u001b[0m\u001b[0;34m\u001b[0m\u001b[0m\n\u001b[1;32m    108\u001b[0m \u001b[0;34m\u001b[0m\u001b[0m\n",
            "\u001b[0;31mMessageError\u001b[0m: Error: credential propagation was unsuccessful"
          ]
        }
      ],
      "source": [
        "# YOUR CODE HERE\n",
        "\n",
        "from google.colab import drive\n",
        "drive.mount('/content/drive')"
      ]
    },
    {
      "cell_type": "markdown",
      "id": "b3b0da55-c08f-4f3f-aebe-3bb7d4557ecc",
      "metadata": {
        "id": "b3b0da55-c08f-4f3f-aebe-3bb7d4557ecc"
      },
      "source": [
        "## Question 3: Import NumPy and Pandas modules\n"
      ]
    },
    {
      "cell_type": "code",
      "execution_count": 5,
      "id": "b6485254-9fbd-43c7-84a3-4da06bc5725d",
      "metadata": {
        "id": "b6485254-9fbd-43c7-84a3-4da06bc5725d"
      },
      "outputs": [],
      "source": [
        "# YOUR CODE HERE\n",
        "import numpy as np\n",
        "import pandas as pd"
      ]
    },
    {
      "cell_type": "markdown",
      "id": "c44de201-84b4-4efc-b4cf-77dfc174772b",
      "metadata": {
        "id": "c44de201-84b4-4efc-b4cf-77dfc174772b"
      },
      "source": [
        "## Question 4: Create a DataFrame\n",
        "\n",
        "For the following code cell you need to create a simple DataFrame called **my_dataframe** containing 12 cells organized as follows:\n",
        "\n",
        "* 6 rows\n",
        "* 2 columns, one named temperature and the other named city\n",
        "\n",
        "\n",
        "\n",
        "Note: \n",
        "** A DataFrame is similar to an in-memory spreadsheet. Like a spreadsheet:\n",
        "\n",
        "* A DataFrame stores data in cells.\n",
        "* A DataFrame has named columns (usually) and numbered rows."
      ]
    },
    {
      "cell_type": "code",
      "execution_count": 19,
      "id": "99ebc191-b17e-43aa-8d45-22a8c28b51e6",
      "metadata": {
        "id": "99ebc191-b17e-43aa-8d45-22a8c28b51e6",
        "outputId": "b21c922b-dce5-45af-b557-3fa859cd6061",
        "colab": {
          "base_uri": "https://localhost:8080/"
        }
      },
      "outputs": [
        {
          "output_type": "stream",
          "name": "stdout",
          "text": [
            "[[ 1  2]\n",
            " [ 3  4]\n",
            " [ 5  6]\n",
            " [ 7  8]\n",
            " [ 9 10]\n",
            " [11 12]]\n",
            "   temperature  seoul\n",
            "0            1      2\n",
            "1            3      4\n",
            "2            5      6\n",
            "3            7      8\n",
            "4            9     10\n",
            "5           11     12\n"
          ]
        }
      ],
      "source": [
        "# YOUR CODE HERE\n",
        "# Step 1: Create and populate a 6x2 NumPy array. * any number\n",
        "aa = np.array([[1,2],[3,4],[5,6],[7,8],[9,10],[11,12]])\n",
        "print(aa)\n",
        "# Step 2: Create a Python list that holds the names of the two columns.\n",
        "lables = ['temperature', 'seoul']\n",
        "\n",
        "# Step 3: Create a DataFrame with the two previous steps.\n",
        "df = pd.DataFrame(aa, columns = lables)\n",
        "\n",
        "# Step 4: Print the entire DataFrame\n",
        "print(df)"
      ]
    },
    {
      "cell_type": "markdown",
      "id": "37b3c8ba-ce0b-47da-bbbc-00cd0440556e",
      "metadata": {
        "id": "37b3c8ba-ce0b-47da-bbbc-00cd0440556e"
      },
      "source": [
        "## Question 5: Adding a new column to a DataFrame\n",
        "\n",
        "Add a new column to the previous dataframe **my_dataframe** just by assigning values to a new column name.\n",
        "\n",
        "The name of the new column is **humidity**\n",
        "\n",
        "* This will make a 6x3 dataframe\n"
      ]
    },
    {
      "cell_type": "code",
      "execution_count": null,
      "id": "7f6cbaee-d8f3-41d7-8169-1e5a4664f4e9",
      "metadata": {
        "id": "7f6cbaee-d8f3-41d7-8169-1e5a4664f4e9"
      },
      "outputs": [],
      "source": [
        "# YOUR CODE HERE\n",
        "\n",
        "# Create a new column named humidity\n",
        "\n",
        "# Print the entire DataFrame\n"
      ]
    },
    {
      "cell_type": "markdown",
      "id": "b044f327-7404-449f-924f-f45a165b0f90",
      "metadata": {
        "id": "b044f327-7404-449f-924f-f45a165b0f90"
      },
      "source": [
        "## Question 6: Specify the following  subsets of **my_dataframe**\n"
      ]
    },
    {
      "cell_type": "code",
      "execution_count": null,
      "id": "d14d3467-b3fe-4437-8802-b2c4e9e68532",
      "metadata": {
        "id": "d14d3467-b3fe-4437-8802-b2c4e9e68532"
      },
      "outputs": [],
      "source": [
        "# YOUR CODE HERE\n",
        "\n",
        "print(\"Rows #3, #4, and #5:\")\n",
        "\n",
        "print(\"Row #2:\")\n",
        "\n",
        "print(\"Rows #1, #2, #3 and #4:\")\n",
        "\n",
        "print(\"Column 'humidity':\")\n"
      ]
    },
    {
      "cell_type": "markdown",
      "id": "c7b81cfd-bc1d-482b-9175-f8c2d940a0f6",
      "metadata": {
        "id": "c7b81cfd-bc1d-482b-9175-f8c2d940a0f6"
      },
      "source": [
        "## Question 7: Write a function called **my_time()** to display the current date and time."
      ]
    },
    {
      "cell_type": "code",
      "execution_count": 3,
      "id": "fc466f94-7bb4-4b1b-922a-c0b9fab1487a",
      "metadata": {
        "id": "fc466f94-7bb4-4b1b-922a-c0b9fab1487a",
        "outputId": "b66449e1-644d-4e92-8c35-ce68602422fb",
        "colab": {
          "base_uri": "https://localhost:8080/"
        }
      },
      "outputs": [
        {
          "output_type": "execute_result",
          "data": {
            "text/plain": [
              "<function __main__.my_time>"
            ]
          },
          "metadata": {},
          "execution_count": 3
        }
      ],
      "source": [
        "# YOUR CODE HERE\n",
        "import datetime\n",
        "def my_time():\n",
        "  time = datetime.today()\n",
        "  \n",
        "my_time\n"
      ]
    },
    {
      "cell_type": "markdown",
      "id": "76a742bd-7759-4b80-b713-64d1c5c6da8f",
      "metadata": {
        "id": "76a742bd-7759-4b80-b713-64d1c5c6da8f"
      },
      "source": [
        "## Question 8: Write a function called **rad_circle()** which accepts the radius of a circle from the user and compute the area."
      ]
    },
    {
      "cell_type": "code",
      "execution_count": 16,
      "id": "84a8cf79-34cf-4fc0-8b5c-809f06fcf98c",
      "metadata": {
        "id": "84a8cf79-34cf-4fc0-8b5c-809f06fcf98c",
        "outputId": "27c65e19-9d82-4781-a0a5-e73619db6606",
        "colab": {
          "base_uri": "https://localhost:8080/"
        }
      },
      "outputs": [
        {
          "name": "stdout",
          "output_type": "stream",
          "text": [
            "3\n"
          ]
        },
        {
          "output_type": "execute_result",
          "data": {
            "text/plain": [
              "28.26"
            ]
          },
          "metadata": {},
          "execution_count": 16
        }
      ],
      "source": [
        "# YOUR CODE HERE\n",
        "from math import pi\n",
        "\n",
        "def rad_circle():\n",
        "  r = int(input())\n",
        "  area = r*r*3.14\n",
        "  return area\n",
        "\n",
        "rad_circle()\n",
        "\n",
        "\n",
        "\n"
      ]
    }
  ],
  "metadata": {
    "kernelspec": {
      "display_name": "Python 3 (ipykernel)",
      "language": "python",
      "name": "python3"
    },
    "language_info": {
      "codemirror_mode": {
        "name": "ipython",
        "version": 3
      },
      "file_extension": ".py",
      "mimetype": "text/x-python",
      "name": "python",
      "nbconvert_exporter": "python",
      "pygments_lexer": "ipython3",
      "version": "3.7.11"
    },
    "colab": {
      "name": "AI - Lab1.ipynb",
      "provenance": []
    }
  },
  "nbformat": 4,
  "nbformat_minor": 5
}